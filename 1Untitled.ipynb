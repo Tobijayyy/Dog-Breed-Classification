{
 "cells": [
  {
   "cell_type": "markdown",
   "id": "86931994-d5fc-4f5b-9f87-c62e2fe9c3c3",
   "metadata": {},
   "source": [
    "#### Path retrieval and Dataframe creation"
   ]
  },
  {
   "cell_type": "code",
   "execution_count": 1,
   "id": "f630dd2e-9f01-4605-96b4-db65a8708ccc",
   "metadata": {},
   "outputs": [
    {
     "name": "stdout",
     "output_type": "stream",
     "text": [
      "absl-py==2.0.0\n",
      "altair==4.0.0\n",
      "anndata==0.10.8\n",
      "ansi2html==1.9.1\n",
      "anyio==4.2.0\n",
      "argon2-cffi==23.1.0\n",
      "argon2-cffi-bindings==21.2.0\n",
      "array_api_compat==1.7.1\n",
      "arrow==1.3.0\n",
      "asttokens==2.4.1\n",
      "astunparse==1.6.3\n",
      "async-lru==2.0.4\n",
      "attrs==23.1.0\n",
      "Babel==2.14.0\n",
      "beautifulsoup4==4.12.2\n",
      "biopython==1.82\n",
      "bleach==6.1.0\n",
      "blinker==1.8.2\n",
      "branca==0.7.2\n",
      "cachetools==5.3.2\n",
      "cattrs==23.2.3\n",
      "certifi==2023.11.17\n",
      "cffi==1.16.0\n",
      "chardet==5.2.0\n",
      "charset-normalizer==3.3.2\n",
      "chembl-webresource-client==0.10.9\n",
      "click==8.1.7\n",
      "colorama==0.4.6\n",
      "comm==0.2.0\n",
      "contourpy==1.2.0\n",
      "cycler==0.12.1\n",
      "dash==2.17.0\n",
      "dash-core-components==2.0.0\n",
      "dash-html-components==2.0.0\n",
      "dash-table==5.0.0\n",
      "debugpy==1.8.0\n",
      "decorator==5.1.1\n",
      "defusedxml==0.7.1\n",
      "DendroPy==4.6.1\n",
      "Deprecated==1.2.14\n",
      "easydict==1.13\n",
      "entrypoints==0.4\n",
      "ete==1.0.0\n",
      "ete3==3.1.3\n",
      "exceptiongroup==1.2.0\n",
      "executing==2.0.1\n",
      "fanstatic==1.4\n",
      "fastjsonschema==2.19.0\n",
      "Flask==3.0.3\n",
      "flatbuffers==24.3.25\n",
      "folium==0.16.0\n",
      "fonttools==4.47.0\n",
      "fqdn==1.5.1\n",
      "gast==0.4.0\n",
      "get-annotations==0.1.2\n",
      "gitdb==4.0.11\n",
      "GitPython==3.1.43\n",
      "google-auth==2.25.2\n",
      "google-auth-oauthlib==0.4.6\n",
      "google-pasta==0.2.0\n",
      "grpcio==1.60.0\n",
      "h5py==3.10.0\n",
      "idna==3.6\n",
      "igraph==0.11.5\n",
      "imbalanced-learn==0.11.0\n",
      "imblearn==0.0\n",
      "img2pdf==0.5.1\n",
      "importlib-metadata==7.0.1\n",
      "importlib-resources==6.1.1\n",
      "ipykernel==6.28.0\n",
      "ipython==8.18.1\n",
      "ipywidgets==8.1.1\n",
      "isoduration==20.11.0\n",
      "itsdangerous==2.2.0\n",
      "jedi==0.19.1\n",
      "Jinja2==3.1.2\n",
      "joblib==1.3.2\n",
      "js==1.0\n",
      "json5==0.9.14\n",
      "jsonpointer==2.4\n",
      "jsonschema==4.20.0\n",
      "jsonschema-specifications==2023.12.1\n",
      "jupyter==1.0.0\n",
      "jupyter-console==6.6.3\n",
      "jupyter-dash==0.4.2\n",
      "jupyter-events==0.9.0\n",
      "jupyter-lsp==2.2.1\n",
      "jupyter_client==8.6.0\n",
      "jupyter_core==5.6.0\n",
      "jupyter_server==2.12.1\n",
      "jupyter_server_terminals==0.5.1\n",
      "jupyterlab==4.0.9\n",
      "jupyterlab-widgets==3.0.9\n",
      "jupyterlab_pygments==0.3.0\n",
      "jupyterlab_server==2.25.2\n",
      "keras==2.11.0\n",
      "kiwisolver==1.4.5\n",
      "lazypredict==0.2.12\n",
      "legacy-api-wrap==1.4\n",
      "leidenalg==0.10.2\n",
      "libclang==16.0.6\n",
      "lightgbm==4.3.0\n",
      "llvmlite==0.43.0\n",
      "lxml==5.2.2\n",
      "Markdown==3.5.1\n",
      "markdown-it-py==3.0.0\n",
      "MarkupSafe==2.1.3\n",
      "matplotlib==3.8.2\n",
      "matplotlib-inline==0.1.6\n",
      "mdurl==0.1.2\n",
      "mistune==3.0.2\n",
      "ml-dtypes==0.4.0\n",
      "more-itertools==10.3.0\n",
      "namex==0.0.8\n",
      "natsort==8.4.0\n",
      "nbclient==0.9.0\n",
      "nbconvert==7.13.1\n",
      "nbformat==5.9.2\n",
      "nest-asyncio==1.5.8\n",
      "networkx==3.2.1\n",
      "nltk==3.8.1\n",
      "notebook==7.0.6\n",
      "notebook_shim==0.2.3\n",
      "numba==0.60.0\n",
      "numpy==1.26.2\n",
      "oauthlib==3.2.2\n",
      "opencv-python==4.9.0.80\n",
      "opt-einsum==3.3.0\n",
      "optree==0.12.1\n",
      "overrides==7.4.0\n",
      "packaging==23.2\n",
      "pandas==2.1.4\n",
      "pandocfilters==1.5.0\n",
      "parso==0.8.3\n",
      "patsy==0.5.6\n",
      "pikepdf==9.0.0\n",
      "Pillow==10.1.0\n",
      "platformdirs==4.1.0\n",
      "plotly==5.22.0\n",
      "primer3-py==2.0.3\n",
      "prometheus-client==0.19.0\n",
      "prompt-toolkit==3.0.43\n",
      "protobuf==3.19.6\n",
      "psutil==5.9.7\n",
      "pure-eval==0.2.2\n",
      "pyarrow==16.1.0\n",
      "pyasn1==0.5.1\n",
      "pyasn1-modules==0.3.0\n",
      "pycparser==2.21\n",
      "pydeck==0.9.1\n",
      "Pygments==2.17.2\n",
      "Pympler==1.0.1\n",
      "pynndescent==0.5.13\n",
      "pyparsing==3.1.1\n",
      "python-dateutil==2.8.2\n",
      "python-json-logger==2.0.7\n",
      "pytz==2023.3.post1\n",
      "pywin32==306\n",
      "pywinpty==2.0.12\n",
      "PyYAML==5.4.1\n",
      "pyzmq==25.1.2\n",
      "qtconsole==5.5.1\n",
      "QtPy==2.4.1\n",
      "referencing==0.32.0\n",
      "regex==2023.12.25\n",
      "reportlab==4.1.0\n",
      "requests==2.31.0\n",
      "requests-cache==1.2.0\n",
      "requests-oauthlib==1.3.1\n",
      "retrying==1.3.4\n",
      "rfc3339-validator==0.1.4\n",
      "rfc3986-validator==0.1.1\n",
      "rich==13.7.1\n",
      "rpds-py==0.15.2\n",
      "rsa==4.9\n",
      "scanpy==1.10.2\n",
      "scikeras==0.10.0\n",
      "scikit-learn==1.2.2\n",
      "scipy==1.11.4\n",
      "seaborn==0.13.1\n",
      "semver==3.0.2\n",
      "Send2Trash==1.8.2\n",
      "session-info==1.0.0\n",
      "six==1.16.0\n",
      "smmap==5.0.1\n",
      "sniffio==1.3.0\n",
      "soupsieve==2.5\n",
      "stack-data==0.6.3\n",
      "statsmodels==0.14.2\n",
      "stdlib-list==0.10.0\n",
      "streamlit==1.10.0\n",
      "tenacity==8.3.0\n",
      "tensorboard==2.11.2\n",
      "tensorboard-data-server==0.6.1\n",
      "tensorboard-plugin-wit==1.8.1\n",
      "tensorflow==2.11.0\n",
      "tensorflow-estimator==2.11.0\n",
      "tensorflow-intel==2.11.0\n",
      "tensorflow-io-gcs-filesystem==0.31.0\n",
      "termcolor==2.4.0\n",
      "terminado==0.18.0\n",
      "texttable==1.7.0\n",
      "threadpoolctl==3.2.0\n",
      "tinycss2==1.2.1\n",
      "toml==0.10.2\n",
      "tomli==2.0.1\n",
      "toolz==0.12.1\n",
      "tornado==6.4\n",
      "tqdm==4.66.2\n",
      "traitlets==5.14.0\n",
      "types-python-dateutil==2.8.19.14\n",
      "typing_extensions==4.9.0\n",
      "tzdata==2023.3\n",
      "tzlocal==5.2\n",
      "umap-learn==0.5.6\n",
      "uri-template==1.3.0\n",
      "url-normalize==1.4.3\n",
      "urllib3==2.1.0\n",
      "validators==0.28.3\n",
      "watchdog==4.0.1\n",
      "wcwidth==0.2.12\n",
      "webcolors==1.13\n",
      "webencodings==0.5.1\n",
      "WebOb==1.8.7\n",
      "websocket-client==1.7.0\n",
      "Werkzeug==3.0.1\n",
      "widgetsnbextension==4.0.9\n",
      "wrapt==1.14.1\n",
      "xgboost==2.0.3\n",
      "xyzservices==2024.6.0\n",
      "zipp==3.17.0\n"
     ]
    }
   ],
   "source": [
    "!pip freeze"
   ]
  },
  {
   "cell_type": "code",
   "execution_count": 20,
   "id": "01bf9c29-3732-4663-9eea-917d9eb1e8d7",
   "metadata": {},
   "outputs": [],
   "source": [
    "import pandas as pd\n",
    "import numpy as np\n",
    "import os"
   ]
  },
  {
   "cell_type": "code",
   "execution_count": 21,
   "id": "f8d96360-6eff-476f-9cc8-8de040d73150",
   "metadata": {},
   "outputs": [],
   "source": [
    "parent_dir_path = os.getcwd()"
   ]
  },
  {
   "cell_type": "code",
   "execution_count": 22,
   "id": "bacd1628-66a0-4af6-8cd2-b6f51cc36643",
   "metadata": {},
   "outputs": [
    {
     "data": {
      "text/plain": [
       "['.ipynb_checkpoints',\n",
       " '1model.h5',\n",
       " '1Untitled.ipynb',\n",
       " 'app.py',\n",
       " 'Beagle',\n",
       " 'Boxer',\n",
       " 'Bulldog',\n",
       " 'Dachshund',\n",
       " 'German_Shepherd',\n",
       " 'Golden_Retriever',\n",
       " 'Labrador_Retriever',\n",
       " 'Poodle',\n",
       " 'Rottweiler',\n",
       " 'Yorkshire_Terrier']"
      ]
     },
     "execution_count": 22,
     "metadata": {},
     "output_type": "execute_result"
    }
   ],
   "source": [
    "os.listdir(parent_dir_path)"
   ]
  },
  {
   "cell_type": "code",
   "execution_count": 23,
   "id": "e3392053-aa4f-46f9-8c27-a3b8dab9f260",
   "metadata": {},
   "outputs": [],
   "source": [
    "def path_retrieval(parent_dir_path):\n",
    "    data = []\n",
    "    labels = []\n",
    "    for item in os.listdir(parent_dir_path)[3:]:\n",
    "        item_path = os.path.join(parent_dir_path, item)\n",
    "        \n",
    "        if os.path.isdir(item_path):\n",
    "            for img in os.listdir(item_path):\n",
    "                img_path = os.path.join(item_path, img)\n",
    "                \n",
    "                symlink_path = os.path.join(parent_dir_path, img)  # Keeping img_path for creating the symlink\n",
    "    \n",
    "                # Checking if the symbolic link already exists\n",
    "                if os.path.exists(symlink_path):\n",
    "                    os.remove(symlink_path)  # Remove the existing link\n",
    "                \n",
    "                os.symlink(img_path, symlink_path)\n",
    "    \n",
    "                # Appendding the data and label to the lists\n",
    "                data.append(symlink_path)\n",
    "                labels.append(item)\n",
    "\n",
    "    df = pd.DataFrame({'path': data, 'breed': labels})\n",
    "    return df    "
   ]
  },
  {
   "cell_type": "code",
   "execution_count": 24,
   "id": "f1960614-f704-48c9-9798-412feeee3f3d",
   "metadata": {},
   "outputs": [],
   "source": [
    "df = path_retrieval(parent_dir_path)"
   ]
  },
  {
   "cell_type": "markdown",
   "id": "28e42585-85f2-4cfe-b930-63d179239002",
   "metadata": {},
   "source": [
    "#### Breed data prep"
   ]
  },
  {
   "cell_type": "code",
   "execution_count": 25,
   "id": "e850946a-ef2f-42a8-980a-df9ee47e7d2a",
   "metadata": {},
   "outputs": [
    {
     "data": {
      "text/plain": [
       "breed\n",
       "Beagle                100\n",
       "Boxer                 100\n",
       "Bulldog               100\n",
       "Poodle                100\n",
       "Yorkshire_Terrier     100\n",
       "Dachshund              96\n",
       "German_Shepherd        96\n",
       "Labrador_Retriever     95\n",
       "Golden_Retriever       91\n",
       "Rottweiler             89\n",
       "Name: count, dtype: int64"
      ]
     },
     "execution_count": 25,
     "metadata": {},
     "output_type": "execute_result"
    }
   ],
   "source": [
    "df['breed'].value_counts()"
   ]
  },
  {
   "cell_type": "code",
   "execution_count": 26,
   "id": "dbdec4a0-80e1-4999-8328-3c81671648ea",
   "metadata": {},
   "outputs": [
    {
     "data": {
      "text/plain": [
       "array(['Beagle', 'Boxer', 'Bulldog', 'Dachshund', 'German_Shepherd',\n",
       "       'Golden_Retriever', 'Labrador_Retriever', 'Poodle', 'Rottweiler',\n",
       "       'Yorkshire_Terrier'], dtype=object)"
      ]
     },
     "execution_count": 26,
     "metadata": {},
     "output_type": "execute_result"
    }
   ],
   "source": [
    "df['breed'].unique()"
   ]
  },
  {
   "cell_type": "code",
   "execution_count": 27,
   "id": "14730a21-7ec4-4526-8944-140a59f50ac9",
   "metadata": {
    "scrolled": true
   },
   "outputs": [],
   "source": [
    "df['breed'] = df['breed'].astype('category').cat.codes"
   ]
  },
  {
   "cell_type": "code",
   "execution_count": 28,
   "id": "c5e58cbf-195d-431b-90bb-6043448694a7",
   "metadata": {},
   "outputs": [
    {
     "data": {
      "text/plain": [
       "array([0, 1, 2, 3, 4, 5, 6, 7, 8, 9], dtype=int8)"
      ]
     },
     "execution_count": 28,
     "metadata": {},
     "output_type": "execute_result"
    }
   ],
   "source": [
    "# Each number corresponds to the class name at the same index\n",
    "df['breed'].unique()"
   ]
  },
  {
   "cell_type": "code",
   "execution_count": 29,
   "id": "3a6f4d87-7e5a-4959-b4ca-05384ddf8c15",
   "metadata": {},
   "outputs": [
    {
     "data": {
      "text/html": [
       "<div>\n",
       "<style scoped>\n",
       "    .dataframe tbody tr th:only-of-type {\n",
       "        vertical-align: middle;\n",
       "    }\n",
       "\n",
       "    .dataframe tbody tr th {\n",
       "        vertical-align: top;\n",
       "    }\n",
       "\n",
       "    .dataframe thead th {\n",
       "        text-align: right;\n",
       "    }\n",
       "</style>\n",
       "<table border=\"1\" class=\"dataframe\">\n",
       "  <thead>\n",
       "    <tr style=\"text-align: right;\">\n",
       "      <th></th>\n",
       "      <th>path</th>\n",
       "      <th>breed</th>\n",
       "    </tr>\n",
       "  </thead>\n",
       "  <tbody>\n",
       "    <tr>\n",
       "      <th>0</th>\n",
       "      <td>C:\\Users\\tobij\\Desktop\\Ipynb Tasks\\Dog Breeds ...</td>\n",
       "      <td>0</td>\n",
       "    </tr>\n",
       "    <tr>\n",
       "      <th>1</th>\n",
       "      <td>C:\\Users\\tobij\\Desktop\\Ipynb Tasks\\Dog Breeds ...</td>\n",
       "      <td>0</td>\n",
       "    </tr>\n",
       "    <tr>\n",
       "      <th>2</th>\n",
       "      <td>C:\\Users\\tobij\\Desktop\\Ipynb Tasks\\Dog Breeds ...</td>\n",
       "      <td>0</td>\n",
       "    </tr>\n",
       "    <tr>\n",
       "      <th>3</th>\n",
       "      <td>C:\\Users\\tobij\\Desktop\\Ipynb Tasks\\Dog Breeds ...</td>\n",
       "      <td>0</td>\n",
       "    </tr>\n",
       "    <tr>\n",
       "      <th>4</th>\n",
       "      <td>C:\\Users\\tobij\\Desktop\\Ipynb Tasks\\Dog Breeds ...</td>\n",
       "      <td>0</td>\n",
       "    </tr>\n",
       "  </tbody>\n",
       "</table>\n",
       "</div>"
      ],
      "text/plain": [
       "                                                path  breed\n",
       "0  C:\\Users\\tobij\\Desktop\\Ipynb Tasks\\Dog Breeds ...      0\n",
       "1  C:\\Users\\tobij\\Desktop\\Ipynb Tasks\\Dog Breeds ...      0\n",
       "2  C:\\Users\\tobij\\Desktop\\Ipynb Tasks\\Dog Breeds ...      0\n",
       "3  C:\\Users\\tobij\\Desktop\\Ipynb Tasks\\Dog Breeds ...      0\n",
       "4  C:\\Users\\tobij\\Desktop\\Ipynb Tasks\\Dog Breeds ...      0"
      ]
     },
     "execution_count": 29,
     "metadata": {},
     "output_type": "execute_result"
    }
   ],
   "source": [
    "df.head()"
   ]
  },
  {
   "cell_type": "code",
   "execution_count": 30,
   "id": "7b43a2a4-afa1-49da-ae1d-2c19ac611cec",
   "metadata": {},
   "outputs": [],
   "source": [
    "# Path data conversion to array"
   ]
  },
  {
   "cell_type": "code",
   "execution_count": 31,
   "id": "5703e763-9fbd-4232-b3a6-be41ce35f603",
   "metadata": {},
   "outputs": [],
   "source": [
    "import cv2"
   ]
  },
  {
   "cell_type": "code",
   "execution_count": 32,
   "id": "8a1d48bd-9442-4586-a89d-8ad81c270702",
   "metadata": {},
   "outputs": [],
   "source": [
    "def img_prep(img_path, new_size):\n",
    "    image = cv2.imread(img_path)\n",
    "    image = cv2.resize(image, new_size) # Resizing the images\n",
    "    image = image / 255.0 # Normalising the values\n",
    "    return image"
   ]
  },
  {
   "cell_type": "code",
   "execution_count": 33,
   "id": "bd2fb25c-cfcc-4e7e-a091-59da76164efd",
   "metadata": {},
   "outputs": [],
   "source": [
    "df.path = df.path.apply(lambda x: img_prep(x, (224, 224)))"
   ]
  },
  {
   "cell_type": "code",
   "execution_count": 34,
   "id": "0a91f61e-ca13-456d-9ce0-c25832e645d7",
   "metadata": {},
   "outputs": [
    {
     "data": {
      "text/html": [
       "<div>\n",
       "<style scoped>\n",
       "    .dataframe tbody tr th:only-of-type {\n",
       "        vertical-align: middle;\n",
       "    }\n",
       "\n",
       "    .dataframe tbody tr th {\n",
       "        vertical-align: top;\n",
       "    }\n",
       "\n",
       "    .dataframe thead th {\n",
       "        text-align: right;\n",
       "    }\n",
       "</style>\n",
       "<table border=\"1\" class=\"dataframe\">\n",
       "  <thead>\n",
       "    <tr style=\"text-align: right;\">\n",
       "      <th></th>\n",
       "      <th>path</th>\n",
       "      <th>breed</th>\n",
       "    </tr>\n",
       "  </thead>\n",
       "  <tbody>\n",
       "    <tr>\n",
       "      <th>0</th>\n",
       "      <td>[[[0.0, 0.00392156862745098, 0.0], [0.0, 0.003...</td>\n",
       "      <td>0</td>\n",
       "    </tr>\n",
       "    <tr>\n",
       "      <th>1</th>\n",
       "      <td>[[[1.0, 1.0, 1.0], [1.0, 1.0, 1.0], [1.0, 1.0,...</td>\n",
       "      <td>0</td>\n",
       "    </tr>\n",
       "    <tr>\n",
       "      <th>2</th>\n",
       "      <td>[[[0.788235294117647, 0.6980392156862745, 0.72...</td>\n",
       "      <td>0</td>\n",
       "    </tr>\n",
       "    <tr>\n",
       "      <th>3</th>\n",
       "      <td>[[[0.8666666666666667, 0.8431372549019608, 0.8...</td>\n",
       "      <td>0</td>\n",
       "    </tr>\n",
       "    <tr>\n",
       "      <th>4</th>\n",
       "      <td>[[[0.5803921568627451, 0.6039215686274509, 0.6...</td>\n",
       "      <td>0</td>\n",
       "    </tr>\n",
       "  </tbody>\n",
       "</table>\n",
       "</div>"
      ],
      "text/plain": [
       "                                                path  breed\n",
       "0  [[[0.0, 0.00392156862745098, 0.0], [0.0, 0.003...      0\n",
       "1  [[[1.0, 1.0, 1.0], [1.0, 1.0, 1.0], [1.0, 1.0,...      0\n",
       "2  [[[0.788235294117647, 0.6980392156862745, 0.72...      0\n",
       "3  [[[0.8666666666666667, 0.8431372549019608, 0.8...      0\n",
       "4  [[[0.5803921568627451, 0.6039215686274509, 0.6...      0"
      ]
     },
     "execution_count": 34,
     "metadata": {},
     "output_type": "execute_result"
    }
   ],
   "source": [
    "df.head()"
   ]
  },
  {
   "cell_type": "code",
   "execution_count": 35,
   "id": "ad5abd31-657b-41ae-a7e7-390053452094",
   "metadata": {
    "scrolled": true
   },
   "outputs": [
    {
     "data": {
      "text/plain": [
       "(967,)"
      ]
     },
     "execution_count": 35,
     "metadata": {},
     "output_type": "execute_result"
    }
   ],
   "source": [
    "df.path.shape"
   ]
  },
  {
   "cell_type": "code",
   "execution_count": 36,
   "id": "09527696-d93c-40b9-ad04-724315ccc2ae",
   "metadata": {},
   "outputs": [
    {
     "data": {
      "text/plain": [
       "(224, 224, 3)"
      ]
     },
     "execution_count": 36,
     "metadata": {},
     "output_type": "execute_result"
    }
   ],
   "source": [
    "df.path.loc[0].shape"
   ]
  },
  {
   "cell_type": "code",
   "execution_count": 37,
   "id": "bf2807ed-5309-43c5-b930-0e906a10c93c",
   "metadata": {},
   "outputs": [],
   "source": [
    "resized_x = np.array(df.path.tolist())"
   ]
  },
  {
   "cell_type": "code",
   "execution_count": 38,
   "id": "a1510566-a80f-41e0-aa5c-28597e6860a7",
   "metadata": {},
   "outputs": [],
   "source": [
    "x = np.zeros((967, 224, 224, 3))"
   ]
  },
  {
   "cell_type": "code",
   "execution_count": 39,
   "id": "68c32fa8-330e-4028-80f8-ec8f46982f04",
   "metadata": {},
   "outputs": [],
   "source": [
    "x = resized_x # Replacing the zeros in the x skeleton array with the values in the resized_x array"
   ]
  },
  {
   "cell_type": "code",
   "execution_count": 40,
   "id": "a1f3be75-68f1-4266-9a30-b2530abe5523",
   "metadata": {},
   "outputs": [
    {
     "data": {
      "text/plain": [
       "(967, 224, 224, 3)"
      ]
     },
     "execution_count": 40,
     "metadata": {},
     "output_type": "execute_result"
    }
   ],
   "source": [
    "x.shape"
   ]
  },
  {
   "cell_type": "code",
   "execution_count": 41,
   "id": "2b099919-897e-4b34-ac49-101b2c1daa10",
   "metadata": {},
   "outputs": [],
   "source": [
    "y = df.breed"
   ]
  },
  {
   "cell_type": "markdown",
   "id": "2406f844-2054-491f-83c2-6c0addcb2148",
   "metadata": {},
   "source": [
    "#### Developing the CNN model"
   ]
  },
  {
   "cell_type": "code",
   "execution_count": 42,
   "id": "2c7b67e2-7547-4ff4-80dd-e85f88bd26ba",
   "metadata": {},
   "outputs": [],
   "source": [
    "from sklearn.model_selection import train_test_split, cross_val_score"
   ]
  },
  {
   "cell_type": "code",
   "execution_count": 43,
   "id": "0a5e9e7d-f24f-4541-8658-758a56773a98",
   "metadata": {},
   "outputs": [],
   "source": [
    "x_train, x_test, y_train, y_test = train_test_split(x, y, test_size=0.2, random_state=0)"
   ]
  },
  {
   "cell_type": "code",
   "execution_count": 44,
   "id": "5949c13a-5e3e-47a3-8ef9-dc381d2efb6c",
   "metadata": {},
   "outputs": [],
   "source": [
    "import keras\n",
    "from keras.models import Sequential\n",
    "from keras.layers import Conv2D, MaxPool2D, Flatten, Dense, Dropout\n",
    "from keras.regularizers import l2\n",
    "from keras.utils import to_categorical"
   ]
  },
  {
   "cell_type": "code",
   "execution_count": 45,
   "id": "f8c9e65e-8748-42bb-8a08-38ef24d00852",
   "metadata": {},
   "outputs": [],
   "source": [
    "model = Sequential()\n",
    "model.add(Conv2D(32, (3, 3), activation='relu', kernel_regularizer=l2(0.01), input_shape=(224, 224, 3)))\n",
    "model.add(MaxPool2D(pool_size=(2, 2)))\n",
    "model.add(Flatten())\n",
    "model.add(Dense(128, activation='relu'))\n",
    "model.add(Dropout(0.1))\n",
    "model.add(Dense(256, activation='relu'))\n",
    "model.add(Dropout(0.1))\n",
    "model.add(Dense(10, activation='softmax'))"
   ]
  },
  {
   "cell_type": "code",
   "execution_count": 46,
   "id": "e9013b9c-5e05-43bb-b3d9-98ff16ebdb09",
   "metadata": {},
   "outputs": [],
   "source": [
    "model.compile(loss='categorical_crossentropy', metrics=['accuracy'], optimizer='adam')"
   ]
  },
  {
   "cell_type": "code",
   "execution_count": 47,
   "id": "9fe3dd19-9744-4e37-b9f0-3ed51848d4ca",
   "metadata": {},
   "outputs": [],
   "source": [
    "y_train_c = to_categorical(y_train, num_classes=10)"
   ]
  },
  {
   "cell_type": "code",
   "execution_count": 48,
   "id": "500c57f0-e1a3-4c71-b460-28044fca8efd",
   "metadata": {},
   "outputs": [
    {
     "data": {
      "text/plain": [
       "<keras.callbacks.History at 0x22caaf51640>"
      ]
     },
     "execution_count": 48,
     "metadata": {},
     "output_type": "execute_result"
    }
   ],
   "source": [
    "model.fit(x_train, y_train_c, epochs=100, batch_size=10, verbose=0)"
   ]
  },
  {
   "cell_type": "code",
   "execution_count": 49,
   "id": "c3b2103b-0ef2-4eb9-a442-b1482a8cc369",
   "metadata": {},
   "outputs": [
    {
     "name": "stdout",
     "output_type": "stream",
     "text": [
      "7/7 [==============================] - 1s 98ms/step\n"
     ]
    }
   ],
   "source": [
    "y_pred = model.predict(x_test).argmax(axis=1)"
   ]
  },
  {
   "cell_type": "code",
   "execution_count": 50,
   "id": "8f11e3e8-4ec0-43db-8857-2172e0cc0946",
   "metadata": {},
   "outputs": [],
   "source": [
    "from sklearn.metrics import accuracy_score, precision_score, f1_score"
   ]
  },
  {
   "cell_type": "code",
   "execution_count": 51,
   "id": "50002f6e-8c00-40e1-9bb5-2d0840961faa",
   "metadata": {},
   "outputs": [
    {
     "data": {
      "text/plain": [
       "0.9948453608247423"
      ]
     },
     "execution_count": 51,
     "metadata": {},
     "output_type": "execute_result"
    }
   ],
   "source": [
    "accuracy_score(y_test, y_pred)"
   ]
  },
  {
   "cell_type": "code",
   "execution_count": 52,
   "id": "314488a3-c070-44d7-988a-f309726087ee",
   "metadata": {},
   "outputs": [
    {
     "data": {
      "text/plain": [
       "0.9950908198330878"
      ]
     },
     "execution_count": 52,
     "metadata": {},
     "output_type": "execute_result"
    }
   ],
   "source": [
    "precision_score(y_test, y_pred, average='weighted')"
   ]
  },
  {
   "cell_type": "code",
   "execution_count": 53,
   "id": "43fdc702-8ccd-4e04-8b8b-52357478f118",
   "metadata": {},
   "outputs": [
    {
     "data": {
      "text/plain": [
       "0.9948301216845346"
      ]
     },
     "execution_count": 53,
     "metadata": {},
     "output_type": "execute_result"
    }
   ],
   "source": [
    "f1_score(y_test, y_pred, average='weighted')"
   ]
  },
  {
   "cell_type": "markdown",
   "id": "eafe74a8-37db-4dd8-928e-4c0fc6c40dee",
   "metadata": {},
   "source": [
    "#### Evaluating the model"
   ]
  },
  {
   "cell_type": "code",
   "execution_count": 54,
   "id": "1b24bfac-5fe7-4911-ae8d-92b0d32f7bc9",
   "metadata": {},
   "outputs": [],
   "source": [
    "import matplotlib.pyplot as plt\n",
    "import seaborn as sns"
   ]
  },
  {
   "cell_type": "code",
   "execution_count": 56,
   "id": "c78f1e0a-d534-49c1-8f9e-14083a8ff767",
   "metadata": {},
   "outputs": [],
   "source": [
    "results = pd.DataFrame(dict(actual=y_test, predicted=y_pred))"
   ]
  },
  {
   "cell_type": "code",
   "execution_count": 57,
   "id": "414a5295-7936-40cc-8868-d60afc01b42e",
   "metadata": {},
   "outputs": [
    {
     "data": {
      "text/html": [
       "<div>\n",
       "<style scoped>\n",
       "    .dataframe tbody tr th:only-of-type {\n",
       "        vertical-align: middle;\n",
       "    }\n",
       "\n",
       "    .dataframe tbody tr th {\n",
       "        vertical-align: top;\n",
       "    }\n",
       "\n",
       "    .dataframe thead th {\n",
       "        text-align: right;\n",
       "    }\n",
       "</style>\n",
       "<table border=\"1\" class=\"dataframe\">\n",
       "  <thead>\n",
       "    <tr style=\"text-align: right;\">\n",
       "      <th>predicted</th>\n",
       "      <th>0</th>\n",
       "      <th>1</th>\n",
       "      <th>2</th>\n",
       "      <th>3</th>\n",
       "      <th>4</th>\n",
       "      <th>5</th>\n",
       "      <th>6</th>\n",
       "      <th>7</th>\n",
       "      <th>8</th>\n",
       "      <th>9</th>\n",
       "    </tr>\n",
       "    <tr>\n",
       "      <th>actual</th>\n",
       "      <th></th>\n",
       "      <th></th>\n",
       "      <th></th>\n",
       "      <th></th>\n",
       "      <th></th>\n",
       "      <th></th>\n",
       "      <th></th>\n",
       "      <th></th>\n",
       "      <th></th>\n",
       "      <th></th>\n",
       "    </tr>\n",
       "  </thead>\n",
       "  <tbody>\n",
       "    <tr>\n",
       "      <th>0</th>\n",
       "      <td>15</td>\n",
       "      <td>0</td>\n",
       "      <td>0</td>\n",
       "      <td>0</td>\n",
       "      <td>0</td>\n",
       "      <td>0</td>\n",
       "      <td>0</td>\n",
       "      <td>0</td>\n",
       "      <td>0</td>\n",
       "      <td>0</td>\n",
       "    </tr>\n",
       "    <tr>\n",
       "      <th>1</th>\n",
       "      <td>0</td>\n",
       "      <td>13</td>\n",
       "      <td>0</td>\n",
       "      <td>0</td>\n",
       "      <td>0</td>\n",
       "      <td>0</td>\n",
       "      <td>0</td>\n",
       "      <td>0</td>\n",
       "      <td>0</td>\n",
       "      <td>0</td>\n",
       "    </tr>\n",
       "    <tr>\n",
       "      <th>2</th>\n",
       "      <td>0</td>\n",
       "      <td>0</td>\n",
       "      <td>24</td>\n",
       "      <td>0</td>\n",
       "      <td>0</td>\n",
       "      <td>0</td>\n",
       "      <td>0</td>\n",
       "      <td>0</td>\n",
       "      <td>0</td>\n",
       "      <td>0</td>\n",
       "    </tr>\n",
       "    <tr>\n",
       "      <th>3</th>\n",
       "      <td>0</td>\n",
       "      <td>0</td>\n",
       "      <td>0</td>\n",
       "      <td>23</td>\n",
       "      <td>0</td>\n",
       "      <td>0</td>\n",
       "      <td>0</td>\n",
       "      <td>0</td>\n",
       "      <td>0</td>\n",
       "      <td>0</td>\n",
       "    </tr>\n",
       "    <tr>\n",
       "      <th>4</th>\n",
       "      <td>0</td>\n",
       "      <td>0</td>\n",
       "      <td>0</td>\n",
       "      <td>0</td>\n",
       "      <td>18</td>\n",
       "      <td>0</td>\n",
       "      <td>0</td>\n",
       "      <td>0</td>\n",
       "      <td>0</td>\n",
       "      <td>0</td>\n",
       "    </tr>\n",
       "    <tr>\n",
       "      <th>5</th>\n",
       "      <td>0</td>\n",
       "      <td>0</td>\n",
       "      <td>0</td>\n",
       "      <td>0</td>\n",
       "      <td>0</td>\n",
       "      <td>16</td>\n",
       "      <td>0</td>\n",
       "      <td>0</td>\n",
       "      <td>0</td>\n",
       "      <td>0</td>\n",
       "    </tr>\n",
       "    <tr>\n",
       "      <th>6</th>\n",
       "      <td>0</td>\n",
       "      <td>0</td>\n",
       "      <td>0</td>\n",
       "      <td>0</td>\n",
       "      <td>0</td>\n",
       "      <td>0</td>\n",
       "      <td>19</td>\n",
       "      <td>0</td>\n",
       "      <td>0</td>\n",
       "      <td>0</td>\n",
       "    </tr>\n",
       "    <tr>\n",
       "      <th>7</th>\n",
       "      <td>0</td>\n",
       "      <td>0</td>\n",
       "      <td>0</td>\n",
       "      <td>0</td>\n",
       "      <td>0</td>\n",
       "      <td>0</td>\n",
       "      <td>0</td>\n",
       "      <td>29</td>\n",
       "      <td>0</td>\n",
       "      <td>0</td>\n",
       "    </tr>\n",
       "    <tr>\n",
       "      <th>8</th>\n",
       "      <td>0</td>\n",
       "      <td>0</td>\n",
       "      <td>0</td>\n",
       "      <td>0</td>\n",
       "      <td>0</td>\n",
       "      <td>0</td>\n",
       "      <td>0</td>\n",
       "      <td>0</td>\n",
       "      <td>16</td>\n",
       "      <td>1</td>\n",
       "    </tr>\n",
       "    <tr>\n",
       "      <th>9</th>\n",
       "      <td>0</td>\n",
       "      <td>0</td>\n",
       "      <td>0</td>\n",
       "      <td>0</td>\n",
       "      <td>0</td>\n",
       "      <td>0</td>\n",
       "      <td>0</td>\n",
       "      <td>0</td>\n",
       "      <td>0</td>\n",
       "      <td>20</td>\n",
       "    </tr>\n",
       "  </tbody>\n",
       "</table>\n",
       "</div>"
      ],
      "text/plain": [
       "predicted   0   1   2   3   4   5   6   7   8   9\n",
       "actual                                           \n",
       "0          15   0   0   0   0   0   0   0   0   0\n",
       "1           0  13   0   0   0   0   0   0   0   0\n",
       "2           0   0  24   0   0   0   0   0   0   0\n",
       "3           0   0   0  23   0   0   0   0   0   0\n",
       "4           0   0   0   0  18   0   0   0   0   0\n",
       "5           0   0   0   0   0  16   0   0   0   0\n",
       "6           0   0   0   0   0   0  19   0   0   0\n",
       "7           0   0   0   0   0   0   0  29   0   0\n",
       "8           0   0   0   0   0   0   0   0  16   1\n",
       "9           0   0   0   0   0   0   0   0   0  20"
      ]
     },
     "execution_count": 57,
     "metadata": {},
     "output_type": "execute_result"
    }
   ],
   "source": [
    "pd.crosstab(index=results.actual, columns=results.predicted)"
   ]
  },
  {
   "cell_type": "markdown",
   "id": "4379041e-6726-4c8b-92b9-b30a4a5faf7c",
   "metadata": {},
   "source": [
    "#### Building the app"
   ]
  },
  {
   "cell_type": "code",
   "execution_count": 60,
   "id": "24f6eb28-7f8a-4d09-aff8-89fd2ab2ba3a",
   "metadata": {},
   "outputs": [],
   "source": [
    "model.save('model.h5')"
   ]
  },
  {
   "cell_type": "markdown",
   "id": "d9225d25-004a-4c5a-bf96-3037759fc10e",
   "metadata": {},
   "source": [
    "The code below is to be run in the terminal to open streamlit\n",
    "- cd C:\\\\Users\\\\tobij\\\\Desktop\\\\Ipynb Tasks\\\\Dog Breeds Dataset\n",
    "- streamlit run app.py"
   ]
  },
  {
   "cell_type": "code",
   "execution_count": null,
   "id": "b63cdb6b-4381-48fc-8fba-ed59f9d10073",
   "metadata": {},
   "outputs": [],
   "source": []
  }
 ],
 "metadata": {
  "kernelspec": {
   "display_name": "Python 3 (ipykernel)",
   "language": "python",
   "name": "python3"
  },
  "language_info": {
   "codemirror_mode": {
    "name": "ipython",
    "version": 3
   },
   "file_extension": ".py",
   "mimetype": "text/x-python",
   "name": "python",
   "nbconvert_exporter": "python",
   "pygments_lexer": "ipython3",
   "version": "3.9.7"
  }
 },
 "nbformat": 4,
 "nbformat_minor": 5
}
